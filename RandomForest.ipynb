{
 "cells": [
  {
   "cell_type": "markdown",
   "metadata": {},
   "source": [
    "#  Big Data Toolkit and Machine Learning in ArcGIS Pro"
   ]
  },
  {
   "cell_type": "markdown",
   "metadata": {},
   "source": [
    "- <font size = \"3\">This demo is inspired by [this](https://www.kaggle.com/c/nyc-taxi-trip-duration/) Kaggle competition, and the data can be download from [here](https://www.kaggle.com/c/nyc-taxi-trip-duration/data).<font>\n",
    "- <font size = \"3\">We will be predicting the duration of a NYC taxi trip. We will approach this problem by leveraging arcpy to run a Forest-based Classification and Regression (Spatial Statistics) GeoProcessing task.<font>\n",
    "- <font size = \"3\">Topics covered in this demo:<font>\n",
    "    - Pyspark SQL\n",
    "    - BDT Spatial Type Functions\n",
    "    - BDT Processors and Sources\n",
    "    - ArcPy Feature Classes and Table Views\n",
    "    - ArcPy ML: Forest-based Classification and Regression\n",
    "    - Arcgis Spatial Dataframes\n"
   ]
  },
  {
   "cell_type": "markdown",
   "metadata": {},
   "source": [
    "### (1) Setup the environment with BDT"
   ]
  },
  {
   "cell_type": "markdown",
   "metadata": {},
   "source": [
    "<font size = \"3\">Set filepaths, start a spark instance, create a helper function to track the execution time of certain tasks<font>"
   ]
  },
  {
   "cell_type": "markdown",
   "metadata": {},
   "source": [
    "- <font size = \"3\">ArcGIS Notebook needs access to 4 items to run BDT:<font>\n",
    "    - <font size = \"3\">[spark-esri](https://github.com/mraad/spark-esri) installed on the active python environment<font>\n",
    "    - <font size = \"3\">Path to a BDT .jar file<font>\n",
    "    - <font size = \"3\">Path to a BDT Python Bindings .egg file<font>\n",
    "    - <font size = \"3\">Path to a valid BDT license .lic file<font>\n",
    "- <font size = \"3\">Ensure that ArcGIS Pro is version 2.6<font>\n",
    "    "
   ]
  },
  {
   "cell_type": "code",
   "execution_count": 5,
   "metadata": {},
   "outputs": [],
   "source": [
    "import os\n",
    "from spark_esri import spark_start, spark_stop\n",
    "from pyspark.sql.functions import pandas_udf, hour, cos, sin, radians, col, when\n",
    "from pyspark.sql.types import DoubleType, StringType\n",
    "import matplotlib.pyplot as plt\n",
    "import pandas as pd\n",
    "from arcgis.features import GeoAccessor\n",
    "import numpy as np\n",
    "\n",
    "%matplotlib inline\n",
    "plt.style.use('dark_background')\n",
    "\n",
    "bdt_jarPath = os.path.join(\"C:\", os.sep, \"Users\", \"bdt2\", \"ws\", \"DevSummit\", \"bdt-2.2.0-2.4.5-2.11-SNAPSHOT.jar\")\n",
    "mssql_jarPath = os.path.join(\"C:\", os.sep, \"Users\", \"bdt2\", \"ws\", \"DevSummit\", \"mssql-jdbc-6.4.0.jre8.jar\")\n",
    "bdt_eggPath = os.path.join(\"C:\", os.sep, \"Users\", \"bdt2\", \"ws\", \"DevSummit\", \"bdt-2.2.0-py3.6.egg\")\n",
    "bdt_licPath = os.path.join(\"C:\", os.sep, \"Users\", \"bdt2\", \"ws\", \"DevSummit\", \"ale10305-2021.lic\")\n",
    "\n",
    "spark_stop()\n",
    "\n",
    "config = {\n",
    "    \"spark.driver.memory\": \"2G\",\n",
    "    \"spark.submit.pyFiles\": bdt_eggPath,\n",
    "    \"spark.jars\": bdt_jarPath + \",\" + mssql_jarPath,\n",
    "    \"spark.kryoserializer.buffer.max\": \"128\"\n",
    "}\n",
    "spark = spark_start(config=config)\n",
    "\n",
    "import time\n",
    "def timeElapsed(startTime):\n",
    "    endTime = time.perf_counter()\n",
    "    timeElapsed = endTime - startTime\n",
    "    if (timeElapsed < 60):\n",
    "        seconds = endTime - startTime\n",
    "        print(f\"Time Elapsed: {seconds:0.4f} seconds\")\n",
    "    else:\n",
    "        minutes = (endTime - startTime)/60\n",
    "        print(f\"Time Elapsed: {minutes:0.4f} minutes\")  "
   ]
  },
  {
   "cell_type": "markdown",
   "metadata": {},
   "source": [
    "<font size = \"3\">Patch the active sparksession with BDT. Confirm Spatial Type Functions have been registered.<font>"
   ]
  },
  {
   "cell_type": "code",
   "execution_count": 6,
   "metadata": {},
   "outputs": [
    {
     "name": "stdout",
     "output_type": "stream",
     "text": [
      "+--------------------+\n",
      "|                 wkt|\n",
      "+--------------------+\n",
      "|[\u0001\u0001\u0000\u0000\u0000\u0000\u0000\u0000\u0000\u0000\u0000�?\u0000\u0000\u0000...|\n",
      "+--------------------+\n",
      "\n"
     ]
    }
   ],
   "source": [
    "import bdt\n",
    "\n",
    "spark.withBDT(bdt_licPath)\n",
    "\n",
    "spark.sql(\"SELECT ST_FromText('POINT(1.0 1.0)') AS wkt\").show()"
   ]
  },
  {
   "cell_type": "markdown",
   "metadata": {},
   "source": [
    "## Part 1: Prepare the Taxi Data For Machine Learning"
   ]
  },
  {
   "cell_type": "markdown",
   "metadata": {},
   "source": [
    "<font size = \"3\">Load the taxi kaggle [data](https://www.kaggle.com/c/nyc-taxi-trip-duration/data)<font>"
   ]
  },
  {
   "cell_type": "code",
   "execution_count": 7,
   "metadata": {},
   "outputs": [],
   "source": [
    "taxiPath = os.path.join(\"C:\", os.sep, \"Users\", \"bdt2\", \"mnt\", \"data\", \"DevSummit\", \"nyc-taxi-kaggle\", \"train.csv\")"
   ]
  },
  {
   "cell_type": "code",
   "execution_count": 8,
   "metadata": {},
   "outputs": [
    {
     "name": "stdout",
     "output_type": "stream",
     "text": [
      "Record count: 1,458,644\n",
      "+---------+---------+-------------------+-------------------+---------------+-------------------+------------------+-------------------+------------------+------------------+-------------+\n",
      "|       id|vendor_id|    pickup_datetime|   dropoff_datetime|passenger_count|   pickup_longitude|   pickup_latitude|  dropoff_longitude|  dropoff_latitude|store_and_fwd_flag|trip_duration|\n",
      "+---------+---------+-------------------+-------------------+---------------+-------------------+------------------+-------------------+------------------+------------------+-------------+\n",
      "|id2875421|        2|2016-03-14 17:24:55|2016-03-14 17:32:30|              1|-73.982154846191406|40.767936706542969|-73.964630126953125|40.765602111816406|                 N|          455|\n",
      "|id2377394|        1|2016-06-12 00:43:35|2016-06-12 00:54:38|              1|-73.980415344238281|40.738563537597656|-73.999481201171875|40.731151580810547|                 N|          663|\n",
      "|id3858529|        2|2016-01-19 11:35:24|2016-01-19 12:10:48|              1|-73.979026794433594|40.763938903808594|-74.005332946777344|40.710086822509766|                 N|         2124|\n",
      "|id3504673|        2|2016-04-06 19:32:31|2016-04-06 19:39:40|              1|-74.010040283203125|   40.719970703125| -74.01226806640625|40.706718444824219|                 N|          429|\n",
      "|id2181028|        2|2016-03-26 13:30:55|2016-03-26 13:38:10|              1|-73.973052978515625|40.793209075927734|-73.972923278808594|40.782520294189453|                 N|          435|\n",
      "+---------+---------+-------------------+-------------------+---------------+-------------------+------------------+-------------------+------------------+------------------+-------------+\n",
      "only showing top 5 rows\n",
      "\n"
     ]
    }
   ],
   "source": [
    "taxi = spark.read.csv(taxiPath,header=True,sep=\",\")\n",
    "print(f\"Record count: {taxi.count():,}\")\n",
    "taxi.show(5, truncate=True)"
   ]
  },
  {
   "cell_type": "markdown",
   "metadata": {},
   "source": [
    "## Feature Engineering"
   ]
  },
  {
   "cell_type": "markdown",
   "metadata": {},
   "source": [
    "<font size=\"3\">Enrich the Dataframe with the cosine and sine values of the pickup hour. This captures the cyclic nature of the time.<font>"
   ]
  },
  {
   "cell_type": "code",
   "execution_count": 9,
   "metadata": {},
   "outputs": [
    {
     "name": "stdout",
     "output_type": "stream",
     "text": [
      "+-------------------+------------------+-------------------+------------------+-------------+-----------+--------------------+-------------------+\n",
      "|   pickup_longitude|   pickup_latitude|  dropoff_longitude|  dropoff_latitude|trip_duration|pickup_hour|            hour_cos|           hour_sin|\n",
      "+-------------------+------------------+-------------------+------------------+-------------+-----------+--------------------+-------------------+\n",
      "|-73.982154846191406|40.767936706542969|-73.964630126953125|40.765602111816406|          455|         17|-0.06824241336467135|-0.9976687691905392|\n",
      "|-73.980415344238281|40.738563537597656|-73.999481201171875|40.731151580810547|          663|          0|                 1.0|                0.0|\n",
      "|-73.979026794433594|40.763938903808594|-74.005332946777344|40.710086822509766|         2124|         11| -0.9906859460363306| 0.1361666490962471|\n",
      "|-74.010040283203125|   40.719970703125| -74.01226806640625|40.706718444824219|          429|         19|  0.4600650377311516|-0.8878852184023756|\n",
      "|-73.973052978515625|40.793209075927734|-73.972923278808594|40.782520294189453|          435|         13| -0.9172113015054532|-0.3984010898462412|\n",
      "+-------------------+------------------+-------------------+------------------+-------------+-----------+--------------------+-------------------+\n",
      "only showing top 5 rows\n",
      "\n"
     ]
    }
   ],
   "source": [
    "taxi = taxi.withColumn(\"pickup_hour\", hour(\"pickup_datetime\")) \\\n",
    "           .withColumn(\"hour_rad\", radians(360.0*col(\"pickup_hour\")/23.0)) \\\n",
    "           .withColumn(\"hour_cos\", cos(\"hour_rad\")) \\\n",
    "           .withColumn(\"hour_sin\", sin(\"hour_rad\")).drop(\"id\", \"vendor_id\",\"passenger_count\",\"store_and_fwd_flag\",\"hour_rad\",\"pickup_datetime\",\"dropoff_datetime\")\n",
    "taxi.show(5)"
   ]
  },
  {
   "cell_type": "markdown",
   "metadata": {},
   "source": [
    "\n",
    "- <font size=\"3\">Filter the dataframe to only the New York Area<font>\n",
    "- <font size=\"3\">Filter the trip duration to exclude extreme values. These values are arbitarily defined as trips between 2 and 100 minutes long.<font>\n"
   ]
  },
  {
   "cell_type": "code",
   "execution_count": 10,
   "metadata": {},
   "outputs": [
    {
     "name": "stdout",
     "output_type": "stream",
     "text": [
      "+-------------------+------------------+-------------------+------------------+-------------+-----------+--------------------+-------------------+\n",
      "|   pickup_longitude|   pickup_latitude|  dropoff_longitude|  dropoff_latitude|trip_duration|pickup_hour|            hour_cos|           hour_sin|\n",
      "+-------------------+------------------+-------------------+------------------+-------------+-----------+--------------------+-------------------+\n",
      "|-73.982154846191406|40.767936706542969|-73.964630126953125|40.765602111816406|          455|         17|-0.06824241336467135|-0.9976687691905392|\n",
      "|-73.980415344238281|40.738563537597656|-73.999481201171875|40.731151580810547|          663|          0|                 1.0|                0.0|\n",
      "|-73.979026794433594|40.763938903808594|-74.005332946777344|40.710086822509766|         2124|         11| -0.9906859460363306| 0.1361666490962471|\n",
      "|-74.010040283203125|   40.719970703125| -74.01226806640625|40.706718444824219|          429|         19|  0.4600650377311516|-0.8878852184023756|\n",
      "|-73.973052978515625|40.793209075927734|-73.972923278808594|40.782520294189453|          435|         13| -0.9172113015054532|-0.3984010898462412|\n",
      "+-------------------+------------------+-------------------+------------------+-------------+-----------+--------------------+-------------------+\n",
      "only showing top 5 rows\n",
      "\n"
     ]
    }
   ],
   "source": [
    "# NYC Extent \n",
    "xmin,ymin,xmax,ymax = (-74.2555913638106, 40.496115395209344, -73.70000906387119, 40.91553277600007)\n",
    "\n",
    "where = \" AND \".join([\n",
    "    f\"pickup_longitude between {xmin} and {xmax}\",\n",
    "    f\"pickup_latitude between {ymin} and {ymax}\",\n",
    "    f\"dropoff_longitude between {xmin} and {xmax}\",\n",
    "    f\"dropoff_latitude between {ymin} and {ymax}\",\n",
    "    \"trip_duration between 120 and 6000\"\n",
    "])\n",
    "\n",
    "taxi = taxi.where(where)\n",
    "taxi.show(5)"
   ]
  },
  {
   "cell_type": "markdown",
   "metadata": {},
   "source": [
    "<font size=\"3\">\n",
    "Use BDT Spatial Type Function ST_HaversineDistance to enrich the data with the Haversine Distance between the pickup and dropoff locations.\n",
    "</font>"
   ]
  },
  {
   "cell_type": "code",
   "execution_count": 11,
   "metadata": {
    "scrolled": true
   },
   "outputs": [
    {
     "name": "stdout",
     "output_type": "stream",
     "text": [
      "+-------------------+------------------+-------------------+------------------+-------------+-----------+--------------------+-------------------+------------------+\n",
      "|   pickup_longitude|   pickup_latitude|  dropoff_longitude|  dropoff_latitude|trip_duration|pickup_hour|            hour_cos|           hour_sin|            meters|\n",
      "+-------------------+------------------+-------------------+------------------+-------------+-----------+--------------------+-------------------+------------------+\n",
      "|-73.982154846191406|40.767936706542969|-73.964630126953125|40.765602111816406|          455|         17|-0.06824241336467135|-0.9976687691905392|1498.5207796474772|\n",
      "|-73.980415344238281|40.738563537597656|-73.999481201171875|40.731151580810547|          663|          0|                 1.0|                0.0|1805.5071687958239|\n",
      "|-73.979026794433594|40.763938903808594|-74.005332946777344|40.710086822509766|         2124|         11| -0.9906859460363306| 0.1361666490962471| 6385.098495252941|\n",
      "|-74.010040283203125|   40.719970703125| -74.01226806640625|40.706718444824219|          429|         19|  0.4600650377311516|-0.8878852184023756| 1485.498422771006|\n",
      "|-73.973052978515625|40.793209075927734|-73.972923278808594|40.782520294189453|          435|         13| -0.9172113015054532|-0.3984010898462412|1188.5884593342212|\n",
      "+-------------------+------------------+-------------------+------------------+-------------+-----------+--------------------+-------------------+------------------+\n",
      "only showing top 5 rows\n",
      "\n"
     ]
    }
   ],
   "source": [
    "taxi.createOrReplaceTempView(\"taxi\")\n",
    "taxi = spark.sql(\"\"\" \n",
    "    SELECT \n",
    "        *, \n",
    "        ST_HaversineDistance(pickup_longitude, pickup_latitude, dropoff_longitude, dropoff_latitude)*1000 as meters\n",
    "    FROM\n",
    "        taxi\"\"\") \\\n",
    "\n",
    "taxi.show(5)"
   ]
  },
  {
   "cell_type": "markdown",
   "metadata": {},
   "source": [
    "## Data Exploration & Visualization"
   ]
  },
  {
   "cell_type": "code",
   "execution_count": 12,
   "metadata": {},
   "outputs": [],
   "source": [
    "taxi.createOrReplaceTempView(\"taxi\")"
   ]
  },
  {
   "cell_type": "markdown",
   "metadata": {},
   "source": [
    "### Plot 1: Average meters traveled for a taxi trip, binned by pickup hour"
   ]
  },
  {
   "cell_type": "code",
   "execution_count": 13,
   "metadata": {},
   "outputs": [
    {
     "data": {
      "text/plain": [
       "<Figure size 432x288 with 0 Axes>"
      ]
     },
     "metadata": {},
     "output_type": "display_data"
    },
    {
     "data": {
      "image/png": "[encoded data removed]",
      "text/plain": [
       "<Figure size 1440x720 with 1 Axes>"
      ]
     },
     "metadata": {},
     "output_type": "display_data"
    }
   ],
   "source": [
    "rows = spark.sql(f\"\"\"\n",
    "    SELECT \n",
    "        pickup_hour, AVG(meters) as avg_meters\n",
    "    FROM\n",
    "        taxi\n",
    "    GROUP BY\n",
    "        pickup_hour\n",
    "    ORDER BY \n",
    "        pickup_hour\n",
    "\"\"\")\\\n",
    "    .collect()\n",
    "\n",
    "pdf = pd.DataFrame(rows,columns=['pickup_hour','avg_meters'])\n",
    "\n",
    "plt.clf(); # Clear figure\n",
    "pdf.plot(x='pickup_hour',y='avg_meters',kind='bar',figsize=(20,10));\n",
    "plt.show();"
   ]
  },
  {
   "cell_type": "markdown",
   "metadata": {},
   "source": [
    "### Plot 2: Total count of taxi trips, binned by pickup hour"
   ]
  },
  {
   "cell_type": "code",
   "execution_count": 14,
   "metadata": {},
   "outputs": [
    {
     "data": {
      "text/plain": [
       "<Figure size 432x288 with 0 Axes>"
      ]
     },
     "metadata": {},
     "output_type": "display_data"
    },
    {
     "data": {
      "image/png": "[encoded data removed]",
      "text/plain": [
       "<Figure size 1440x720 with 1 Axes>"
      ]
     },
     "metadata": {},
     "output_type": "display_data"
    }
   ],
   "source": [
    "rows = spark.sql(f\"\"\"\n",
    "    SELECT \n",
    "        pickup_hour, COUNT(1) as pop\n",
    "    FROM \n",
    "        taxi\n",
    "    GROUP BY \n",
    "        pickup_hour\n",
    "    ORDER BY \n",
    "        pickup_hour\n",
    "\"\"\")\\\n",
    "    .collect()\n",
    "\n",
    "pdf = pd.DataFrame(rows,columns=['pickup_hour','pop'])\n",
    "\n",
    "plt.clf()\n",
    "ax = pdf.plot(x='pickup_hour',y='pop',kind='bar',figsize=(20,10))\n",
    "plt.show()"
   ]
  },
  {
   "cell_type": "markdown",
   "metadata": {},
   "source": [
    "### Plot 3: Total count of taxi trips, binned by log(duration)\n",
    "- <font size=\"3\">The distribution is roughly log-normal</font>"
   ]
  },
  {
   "cell_type": "code",
   "execution_count": 15,
   "metadata": {},
   "outputs": [
    {
     "data": {
      "text/plain": [
       "<Figure size 432x288 with 0 Axes>"
      ]
     },
     "metadata": {},
     "output_type": "display_data"
    },
    {
     "data": {
      "image/png": "[encoded data removed]",
      "text/plain": [
       "<Figure size 1440x720 with 1 Axes>"
      ]
     },
     "metadata": {},
     "output_type": "display_data"
    }
   ],
   "source": [
    "values,counts = taxi \\\n",
    "    .selectExpr('log(trip_duration)')\\\n",
    "    .rdd\\\n",
    "    .flatMap(lambda x:x)\\\n",
    "    .histogram(20)\n",
    "\n",
    "labels = [format(v,'.2f') for v in values]\n",
    "\n",
    "plt.clf()\n",
    "ax = pd.DataFrame(list(zip(labels,counts)),columns=['logdur','Frequency'])\\\n",
    "    .set_index('logdur')\\\n",
    "    .plot(kind='bar', figsize=(20,10), align='edge', rot=45)\n",
    "plt.show()"
   ]
  },
  {
   "cell_type": "markdown",
   "metadata": {},
   "source": [
    "### Feature Engineering, Cont."
   ]
  },
  {
   "cell_type": "markdown",
   "metadata": {},
   "source": [
    " - <font size=\"3\">Rename the columns for convenience<font>\n",
    " - <font size=\"3\">Convert location data to double values<font>\n",
    " - <font size=\"3\">Filter the data by the newly added meters per second column<font> \n",
    " "
   ]
  },
  {
   "cell_type": "code",
   "execution_count": 16,
   "metadata": {},
   "outputs": [
    {
     "name": "stdout",
     "output_type": "stream",
     "text": [
      "root\n",
      " |-- pLon: double (nullable = true)\n",
      " |-- pLat: double (nullable = true)\n",
      " |-- dLon: double (nullable = true)\n",
      " |-- dLat: double (nullable = true)\n",
      " |-- duration: double (nullable = true)\n",
      " |-- hour: double (nullable = true)\n",
      " |-- hourCos: double (nullable = true)\n",
      " |-- hourSin: double (nullable = true)\n",
      " |-- meters: double (nullable = true)\n",
      " |-- mps: double (nullable = true)\n",
      "\n",
      "+------------------+------------------+------------------+------------------+--------+----+--------------------+-------------------+------------------+------------------+\n",
      "|              pLon|              pLat|              dLon|              dLat|duration|hour|             hourCos|            hourSin|            meters|               mps|\n",
      "+------------------+------------------+------------------+------------------+--------+----+--------------------+-------------------+------------------+------------------+\n",
      "| -73.9821548461914| 40.76793670654297|-73.96463012695312|40.765602111816406|   455.0|17.0|-0.06824241336467135|-0.9976687691905392|1498.5207796474772|3.2934522629614884|\n",
      "|-73.98041534423828|40.738563537597656|-73.99948120117188| 40.73115158081055|   663.0| 0.0|                 1.0|                0.0|1805.5071687958239|2.7232385653029016|\n",
      "| -73.9790267944336|40.763938903808594|-74.00533294677734|40.710086822509766|  2124.0|11.0| -0.9906859460363306| 0.1361666490962471| 6385.098495252941| 3.006166899836601|\n",
      "|-74.01004028320312|   40.719970703125|-74.01226806640625| 40.70671844482422|   429.0|19.0|  0.4600650377311516|-0.8878852184023756| 1485.498422771006|3.4627002861795013|\n",
      "|-73.97305297851562|40.793209075927734| -73.9729232788086| 40.78252029418945|   435.0|13.0| -0.9172113015054532|-0.3984010898462412|1188.5884593342212|  2.73238726283729|\n",
      "+------------------+------------------+------------------+------------------+--------+----+--------------------+-------------------+------------------+------------------+\n",
      "only showing top 5 rows\n",
      "\n"
     ]
    }
   ],
   "source": [
    "from pyspark.sql.functions import monotonically_increasing_id\n",
    "\n",
    "newNames = ['pLon', 'pLat', 'dLon', 'dLat', 'duration', 'hour', 'hourCos', 'hourSin', 'meters']\n",
    "taxi = taxi.toDF(*newNames)\n",
    "\n",
    "taxi = taxi.withColumn(\"pLon\", col(\"pLon\").cast(DoubleType())) \\\n",
    "                    .withColumn(\"pLat\", col(\"pLat\").cast(DoubleType())) \\\n",
    "                    .withColumn(\"dLon\", col(\"dLon\").cast(DoubleType())) \\\n",
    "                    .withColumn(\"dLat\", col(\"dLat\").cast(DoubleType())) \\\n",
    "                    .withColumn(\"duration\", col(\"duration\").cast(DoubleType())) \\\n",
    "                    .withColumn(\"hour\", col(\"hour\").cast(DoubleType())) \\\n",
    "                    .withColumn(\"mps\", col(\"meters\")/col(\"duration\")) \\\n",
    "                    .filter(\"mps BETWEEN 0.5 AND 20\")\n",
    "taxi.printSchema()\n",
    "taxi.show(5)"
   ]
  },
  {
   "cell_type": "markdown",
   "metadata": {},
   "source": [
    "## Part 2"
   ]
  },
  {
   "cell_type": "markdown",
   "metadata": {},
   "source": [
    " - <font size =\"3\">We will augment the kaggle taxi data with NYC Zipcode data for dropoff and pickup locations. The goal is to add region-level data (less granularity) for the model to train on.<font>"
   ]
  },
  {
   "cell_type": "markdown",
   "metadata": {},
   "source": [
    "### Load in NYC Zipcode Data"
   ]
  },
  {
   "cell_type": "markdown",
   "metadata": {},
   "source": [
    "- <font size=\"3\">Load in WKT data using BDT SourceGeneric<font>\n",
    "- <font size=\"3\">ST_FromText will convert the WKT values into Shape Structs, the internal geometry objects of BDT<font>   "
   ]
  },
  {
   "cell_type": "code",
   "execution_count": 17,
   "metadata": {
    "scrolled": true
   },
   "outputs": [
    {
     "name": "stdout",
     "output_type": "stream",
     "text": [
      "Time Elapsed: 0.5422 seconds\n",
      "Record count: 246\n",
      "+-----+--------+--------+--------------------+\n",
      "|   ID|    NAME| RG_NAME|           __SHAPE__|\n",
      "+-----+--------+--------+--------------------+\n",
      "|10001|New York|New York|[\u0001\u0006\u0000\u0000\u0000\u0001\u0000\u0000\u0000\u0001\u0003\u0000\u0000\u0000\u0002\u0000...|\n",
      "|10002|New York|New York|[\u0001\u0006\u0000\u0000\u0000\u0001\u0000\u0000\u0000\u0001\u0003\u0000\u0000\u0000\u0001\u0000...|\n",
      "|10003|New York|New York|[\u0001\u0006\u0000\u0000\u0000\u0001\u0000\u0000\u0000\u0001\u0003\u0000\u0000\u0000\u0001\u0000...|\n",
      "|10004|New York|New York|[\u0001\u0006\u0000\u0000\u0000\u0002\u0000\u0000\u0000\u0001\u0003\u0000\u0000\u0000\u0001\u0000...|\n",
      "|10005|New York|New York|[\u0001\u0006\u0000\u0000\u0000\u0001\u0000\u0000\u0000\u0001\u0003\u0000\u0000\u0000\u0001\u0000...|\n",
      "|10006|New York|New York|[\u0001\u0006\u0000\u0000\u0000\u0001\u0000\u0000\u0000\u0001\u0003\u0000\u0000\u0000\u0001\u0000...|\n",
      "|10007|New York|New York|[\u0001\u0006\u0000\u0000\u0000\u0001\u0000\u0000\u0000\u0001\u0003\u0000\u0000\u0000\u0001\u0000...|\n",
      "|10009|New York|New York|[\u0001\u0006\u0000\u0000\u0000\u000e\u0000\u0000\u0000\u0001\u0003\u0000\u0000\u0000\u0001\u0000...|\n",
      "|10010|New York|New York|[\u0001\u0006\u0000\u0000\u0000\u0003\u0000\u0000\u0000\u0001\u0003\u0000\u0000\u0000\u0001\u0000...|\n",
      "|10011|New York|New York|[\u0001\u0006\u0000\u0000\u0000\u0001\u0000\u0000\u0000\u0001\u0003\u0000\u0000\u0000\u0001\u0000...|\n",
      "+-----+--------+--------+--------------------+\n",
      "only showing top 10 rows\n",
      "\n"
     ]
    }
   ],
   "source": [
    "countiesWKTPath = os.path.join(\"C:\", os.sep, \"Users\", \"bdt2\", \"mnt\", \"data\", \"DevSummit\", \"zipcodes\", \"zip.wkt\")\n",
    "\n",
    "formaty = \"csv\"\n",
    "options = {\n",
    "   \"path\": countiesWKTPath,\n",
    "   \"header\": \"true\",\n",
    "   \"delimiter\": \"\\t\",\n",
    "   \"inferSchema\": \"true\"}\n",
    "\n",
    "startTime = time.perf_counter()\n",
    "zipcode = spark.bdt.sourceGeneric(formaty, options, selectExpr=[\"ID\", \"NAME\", \"RG_NAME\", \"ST_FromText(wkt) as __SHAPE__\"], geometryType = \"Polygon\", wkid=4326, shapeField = \"__SHAPE__\")\n",
    "timeElapsed(startTime)\n",
    "\n",
    "zipcode = zipcode.where(\"RG_NAME == 'New York'\")\n",
    "print(f\"Record count: {zipcode.count():,}\")\n",
    "zipcode.show(10)"
   ]
  },
  {
   "cell_type": "markdown",
   "metadata": {},
   "source": [
    "### Joining the Taxi Data with the Zipcode Data"
   ]
  },
  {
   "cell_type": "markdown",
   "metadata": {},
   "source": [
    "- <font size=\"3\">We will use ProcessorAddShapeFromXY to add a point Shape Struct to the taxi data<font>\n",
    "- <font size=\"3\">We will use ProcessorPointInPolygon twice: First to enrich each taxi record with the NYC Zipcode information of the dropoff location, and then the pickup location<font>\n",
    "- <font size=\"3\">Uncessary intermediate columns are removed, and column data types are changed<font>\n",
    "- <font size=\"3\">Three new columns are added: <font>\n",
    "    - <font size=\"3\">pRegionID: ID of pickup Zipcode <font>\n",
    "    - <font size=\"3\">dRegionID: ID of dropoff Zipcode <font>\n",
    "    - <font size=\"3\">oneRegion: Whether the entire taxi trip was in one region or not <font>"
   ]
  },
  {
   "cell_type": "code",
   "execution_count": 18,
   "metadata": {},
   "outputs": [
    {
     "name": "stdout",
     "output_type": "stream",
     "text": [
      "+------------------+------------------+------------------+------------------+--------+----+-------------------+-------------------+-----------------+------------------+---------+\n",
      "|              pLon|              pLat|              dLon|              dLat|duration|hour|            hourCos|            hourSin|           meters|               mps|pRegionID|\n",
      "+------------------+------------------+------------------+------------------+--------+----+-------------------+-------------------+-----------------+------------------+---------+\n",
      "|-74.01004028320312|   40.719970703125|-74.01226806640625| 40.70671844482422|   429.0|19.0| 0.4600650377311516|-0.8878852184023756|1485.498422771006|3.4627002861795013|    10013|\n",
      "|-74.00398254394531|  40.7130126953125|-73.97919464111328| 40.74992370605469|  1317.0| 9.0|-0.7757112907044199| 0.6310879443260526|4605.201075572882| 3.496735820480548|    10007|\n",
      "|-74.00550079345703| 40.70658874511719| -73.9858169555664| 40.74420166015625|  1022.0|19.0| 0.4600650377311516|-0.8878852184023756|4499.284303994801| 4.402430825826616|    10038|\n",
      "|-74.00899505615234|40.712589263916016| -73.9986343383789|40.722808837890625|   707.0|12.0|-0.9906859460363308|-0.1361666490962464|1433.099593298032|2.0270149834484186|    10007|\n",
      "|-74.01632690429688| 40.70499038696289|-73.98210906982422| 40.77375030517578|  1478.0|15.0|-0.5766803221148672| -0.816969893010442|8171.202963147671| 5.528554102265001|    10004|\n",
      "+------------------+------------------+------------------+------------------+--------+----+-------------------+-------------------+-----------------+------------------+---------+\n",
      "only showing top 5 rows\n",
      "\n",
      "Time Elapsed: 6.0880 seconds\n"
     ]
    }
   ],
   "source": [
    "startTime = time.perf_counter()\n",
    "\n",
    "taxiShp = spark.bdt.processorAddShapeFromXY(taxi, \"pLon\", \"pLat\", keep=True)\n",
    "\n",
    "pipped = spark.bdt.processorPointInPolygon(taxiShp, zipcode, cellSize=1.0, emitPippedOnly=True, pointShapeField=\"__SHAPE__\", polygonShapeField=\"__SHAPE__\")\n",
    "\n",
    "taxi = pipped.withColumnRenamed(\"ID\", \"pRegionID\") \\\n",
    "                 .drop(\"RG_NAME\") \\\n",
    "                 .drop(\"NAME\") \\\n",
    "                 .drop(\"__SHAPE__\")\n",
    "taxi.show(5)\n",
    "timeElapsed(startTime)"
   ]
  },
  {
   "cell_type": "code",
   "execution_count": 19,
   "metadata": {},
   "outputs": [
    {
     "name": "stdout",
     "output_type": "stream",
     "text": [
      "+--------+------------------+-----------------+------------------+------------------+-------------------+-------------------+------------------+---------+---------+---------+\n",
      "|duration|              pLon|             pLat|              dLon|              dLat|            hourCos|            hourSin|            meters|pRegionID|dRegionID|oneRegion|\n",
      "+--------+------------------+-----------------+------------------+------------------+-------------------+-------------------+------------------+---------+---------+---------+\n",
      "|   429.0|-74.01004028320312|  40.719970703125|-74.01226806640625| 40.70671844482422| 0.4600650377311516|-0.8878852184023756| 1485.498422771006|    10013|    10004|    false|\n",
      "|   512.0|-74.00180053710938|40.72613525390625|-74.00715637207031|40.740806579589844|-0.9906859460363308|-0.1361666490962464| 1692.642538820824|    10012|    10014|    false|\n",
      "|   174.0| -74.0063247680664|40.73339080810547|-74.00000762939453|40.743255615234375|-0.3348796121709864|-0.9422609221188204|1219.2200067751526|    10014|    10011|    false|\n",
      "|   215.0|-74.00298309326172|40.72331237792969|-74.00155639648438|40.728824615478516| 0.6825531432186536|-0.7308359642781246| 624.6123563331846|    10013|    10012|    false|\n",
      "|   674.0|-74.01116943359375|40.70360565185547|-74.00569152832031| 40.74135971069336|                1.0|                0.0|4223.3651561629185|    10004|    10014|    false|\n",
      "+--------+------------------+-----------------+------------------+------------------+-------------------+-------------------+------------------+---------+---------+---------+\n",
      "only showing top 5 rows\n",
      "\n",
      "Time Elapsed: 18.8419 seconds\n"
     ]
    }
   ],
   "source": [
    "startTime = time.perf_counter()\n",
    "\n",
    "taxiShp2 = spark.bdt.processorAddShapeFromXY(taxi, \"dLon\", \"dLat\", keep=True)\n",
    "\n",
    "pipped2 = spark.bdt.processorPointInPolygon(taxiShp2, zipcode, cellSize=1.0, emitPippedOnly=True, pointShapeField=\"__SHAPE__\", polygonShapeField=\"__SHAPE__\")\n",
    "\n",
    "taxi = pipped2.withColumnRenamed(\"ID\", \"dRegionID\") \\\n",
    "                 .drop(\"RG_NAME\") \\\n",
    "                 .drop(\"NAME\") \\\n",
    "                 .drop(\"__SHAPE__\") \\\n",
    "                 .withColumn(\"oneRegion\", when(col(\"pRegionID\") == col(\"dRegionID\"), \"true\").otherwise(\"false\")) \\\n",
    "                 .withColumn(\"pRegionID\", col(\"pRegionID\").cast(StringType())) \\\n",
    "                 .withColumn(\"dRegionID\", col(\"dRegionID\").cast(StringType())) \\\n",
    "                 .select(*[\"duration\", \"pLon\", \"pLat\", \"dLon\", \"dLat\", \"hourCos\", \"hourSin\", \"meters\", \"pRegionID\", \"dRegionID\", \"oneRegion\"])\n",
    "\n",
    "taxi.show(5)\n",
    "timeElapsed(startTime)"
   ]
  },
  {
   "cell_type": "markdown",
   "metadata": {},
   "source": [
    "<font size=\"3\">Use BDT ProcessorWebMercator to convert WGS84 Lat/Lon values to WebMercator X/Y values in meters<font>"
   ]
  },
  {
   "cell_type": "code",
   "execution_count": 20,
   "metadata": {},
   "outputs": [
    {
     "name": "stdout",
     "output_type": "stream",
     "text": [
      "root\n",
      " |-- duration: double (nullable = true)\n",
      " |-- pLon: double (nullable = true)\n",
      " |-- pLat: double (nullable = true)\n",
      " |-- dLon: double (nullable = true)\n",
      " |-- dLat: double (nullable = true)\n",
      " |-- hourCos: double (nullable = true)\n",
      " |-- hourSin: double (nullable = true)\n",
      " |-- meters: double (nullable = true)\n",
      " |-- pRegionID: string (nullable = true)\n",
      " |-- dRegionID: string (nullable = true)\n",
      " |-- oneRegion: string (nullable = false)\n",
      " |-- SHAPE@X: double (nullable = true)\n",
      " |-- SHAPE@Y: double (nullable = true)\n",
      "\n",
      "+--------+------------------+-----------------+------------------+------------------+-------------------+-------------------+------------------+---------+---------+---------+------------------+------------------+\n",
      "|duration|              pLon|             pLat|              dLon|              dLat|            hourCos|            hourSin|            meters|pRegionID|dRegionID|oneRegion|           SHAPE@X|           SHAPE@Y|\n",
      "+--------+------------------+-----------------+------------------+------------------+-------------------+-------------------+------------------+---------+---------+---------+------------------+------------------+\n",
      "|   429.0|-74.01004028320312|  40.719970703125|-74.01226806640625| 40.70671844482422| 0.4600650377311516|-0.8878852184023756| 1485.498422771006|    10013|    10004|    false|-8238759.997915836| 4971124.737422713|\n",
      "|   512.0|-74.00180053710938|40.72613525390625|-74.00715637207031|40.740806579589844|-0.9906859460363308|-0.1361666490962464| 1692.642538820824|    10012|    10014|    false|-8237842.753576414|4972030.2132059205|\n",
      "|   174.0| -74.0063247680664|40.73339080810547|-74.00000762939453|40.743255615234375|-0.3348796121709864|-0.9422609221188204|1219.2200067751526|    10014|    10011|    false|-8238346.388662782| 4973096.047732088|\n",
      "|   215.0|-74.00298309326172|40.72331237792969|-74.00155639648438|40.728824615478516| 0.6825531432186536|-0.7308359642781246| 624.6123563331846|    10013|    10012|    false|-8237974.395125127| 4971615.566609255|\n",
      "|   674.0|-74.01116943359375|40.70360565185547|-74.00569152832031| 40.74135971069336|                1.0|                0.0|4223.3651561629185|    10004|    10014|    false| -8238885.69436235| 4968721.374869845|\n",
      "+--------+------------------+-----------------+------------------+------------------+-------------------+-------------------+------------------+---------+---------+---------+------------------+------------------+\n",
      "only showing top 5 rows\n",
      "\n"
     ]
    }
   ],
   "source": [
    "taxi = spark.bdt.processorWebMercator(taxi, \"pLat\", \"pLon\") \\\n",
    "                   .withColumnRenamed(\"X\", \"SHAPE@X\") \\\n",
    "                    .withColumnRenamed(\"Y\", \"SHAPE@Y\") \n",
    "taxi.printSchema()\n",
    "taxi.show(5)"
   ]
  },
  {
   "cell_type": "markdown",
   "metadata": {},
   "source": [
    "## Part 3: ML"
   ]
  },
  {
   "cell_type": "markdown",
   "metadata": {},
   "source": [
    "<font size=\"3\">Split the data into Train and Test datasets. The validation dataset will be taken from the Train dataset in the model creation step.<font>"
   ]
  },
  {
   "cell_type": "code",
   "execution_count": 21,
   "metadata": {},
   "outputs": [],
   "source": [
    "taxiTrain, taxiTest = taxi.randomSplit([0.85, 0.15])"
   ]
  },
  {
   "cell_type": "markdown",
   "metadata": {},
   "source": [
    "### Put all of the data from Train and Test Pyspark Dataframes into Feature Classes\n",
    "- <font size=\"3\">Collect all the dataframe rows and insert them into a new Feature Class<font>\n",
    "- <font size=\"3\">Table Views for both the Train and Test Feature Classes will be automatically created in the environment<font>\n",
    "    "
   ]
  },
  {
   "cell_type": "code",
   "execution_count": 22,
   "metadata": {},
   "outputs": [
    {
     "name": "stdout",
     "output_type": "stream",
     "text": [
      "Time Elapsed: 53.8707 seconds\n"
     ]
    }
   ],
   "source": [
    "trainRows = taxiTrain.collect()\n",
    "\n",
    "# The Scratch GDB environment setting is the location of a file geodatabase you can use to write temporary data.\n",
    "# C:\\Users\\<user_name>\\AppData\\Local\\Temp\\1\\scratch.gdb.\n",
    "startTime = time.perf_counter()\n",
    "ws = arcpy.env.scratchGDB  # Forest GP cannot accept memory based ws :-(\n",
    "nm = \"Train\"\n",
    "\n",
    "\n",
    "fields = [f.name for f in taxiTrain.schema.fields]\n",
    "fieldsTypes = [(f.name, f.dataType.simpleString().upper()) for f in taxiTrain.schema.fields]\n",
    "\n",
    "fc = os.path.join(ws, nm)\n",
    "\n",
    "arcpy.management.Delete(fc)\n",
    "\n",
    "sp_ref = arcpy.SpatialReference(3857)\n",
    "arcpy.management.CreateFeatureclass(ws, nm, \"POINT\", spatial_reference=sp_ref)\n",
    "for name, dType in fieldsTypes[:-2]:\n",
    "    arcpy.management.AddField(fc, name, dType)\n",
    "\n",
    "with arcpy.da.InsertCursor(fc, fields) as cursor:\n",
    "    for row in trainRows:\n",
    "        cursor.insertRow(row)\n",
    "timeElapsed(startTime)"
   ]
  },
  {
   "cell_type": "code",
   "execution_count": 23,
   "metadata": {},
   "outputs": [
    {
     "name": "stdout",
     "output_type": "stream",
     "text": [
      "Time Elapsed: 14.2621 seconds\n"
     ]
    }
   ],
   "source": [
    "testRows = taxiTest.collect()\n",
    "\n",
    "# The Scratch GDB environment setting is the location of a file geodatabase you can use to write temporary data.\n",
    "# C:\\Users\\<user_name>\\AppData\\Local\\Temp\\1\\scratch.gdb.\n",
    "startTime = time.perf_counter()\n",
    "ws = arcpy.env.scratchGDB  # Forest GP cannot accept memory based ws :-(\n",
    "nm = \"Test\"\n",
    "\n",
    "\n",
    "fields = [f.name for f in taxiTest.schema.fields]\n",
    "fieldsTypes = [(f.name, f.dataType.simpleString().upper()) for f in taxiTest.schema.fields]\n",
    "\n",
    "fc = os.path.join(ws, nm)\n",
    "\n",
    "arcpy.management.Delete(fc)\n",
    "\n",
    "sp_ref = arcpy.SpatialReference(3857)\n",
    "arcpy.management.CreateFeatureclass(ws, nm, \"POINT\", spatial_reference=sp_ref)\n",
    "for name, dType in fieldsTypes[:-2]:\n",
    "    arcpy.management.AddField(fc, name, dType)\n",
    "\n",
    "with arcpy.da.InsertCursor(fc, fields) as cursor:\n",
    "    for row in testRows:\n",
    "        cursor.insertRow(row)\n",
    "timeElapsed(startTime)"
   ]
  },
  {
   "cell_type": "markdown",
   "metadata": {},
   "source": [
    "### Run Forest Based Regression on the Feature Class\n",
    "- <font size=\"3\">Details about the Random Forest tool can be found [here](https://pro.arcgis.com/en/pro-app/latest/tool-reference/geoanalytics-desktop/forest-based-classification-and-regression.htm)<font>"
   ]
  },
  {
   "cell_type": "code",
   "execution_count": 25,
   "metadata": {
    "scrolled": true
   },
   "outputs": [
    {
     "name": "stdout",
     "output_type": "stream",
     "text": [
      "Time Elapsed: 2.2869 minutes\n",
      "None\n"
     ]
    },
    {
     "data": {
      "text/html": [
       "<h2>Output</h2><table><tr><th>id</th><th>value</th></tr><tr><td>0</td><td>C:\\Users\\bdt2\\Documents\\ArcGIS\\Projects\\DevSummit\\scratch.gdb\\Trained</td></tr><tr><td>1</td><td>C:\\Users\\bdt2\\Documents\\ArcGIS\\Projects\\DevSummit\\scratch.gdb\\Importance</td></tr><tr><td>2</td><td>C:\\Users\\bdt2\\Documents\\ArcGIS\\Projects\\DevSummit\\scratch.gdb\\Predictions</td></tr></table><h2>Messages</h2>Start Time: Friday, February 12, 2021 8:48:02 PM<br/>Started Spark Job 1 with 233 tasks.<br/>Spark Job 1 completed in 12.8 seconds.<br/>Started Spark Job 2 with 64 tasks.<br/>Spark Job 2 completed in 2.4 seconds.<br/>Started Spark Job 3 with 1 tasks.<br/>Spark Job 3 completed in 0.4 seconds.<br/>Started Spark Job 4 with 32 tasks.<br/>Spark Job 4 completed in 2.2 seconds.<br/>Started Spark Job 5 with 39 tasks.<br/>Spark Job 5 completed in 2.7 seconds.<br/>Started Spark Job 6 with 64 tasks.<br/>Spark Job 6 completed in 5.5 seconds.<br/>Started Spark Job 7 with 64 tasks.<br/>Spark Job 7 completed in 3.4 seconds.<br/>Started Spark Job 8 with 64 tasks.<br/>Spark Job 8 completed in 2.3 seconds.<br/>Started Spark Job 9 with 64 tasks.<br/>Spark Job 9 completed in 3.4 seconds.<br/>Started Spark Job 10 with 64 tasks.<br/>Spark Job 10 completed in 3.7 seconds.<br/>Started Spark Job 11 with 1 tasks.<br/>Spark Job 11 completed in 0.3 seconds.<br/>Started Spark Job 12 with 37 tasks.<br/>Spark Job 12 completed in 5.5 seconds.<br/>Started Spark Job 13 with 32 tasks.<br/>Spark Job 13 completed in 4.4 seconds.<br/>Started Spark Job 14 with 33 tasks.<br/>Spark Job 14 completed in 2.1 seconds.<br/>Started Spark Job 15 with 37 tasks.<br/>Spark Job 15 completed in 2.3 seconds.<br/>Started Spark Job 16 with 32 tasks.<br/>Spark Job 16 completed in 2.2 seconds.<br/>Started Spark Job 17 with 65 tasks.<br/>Spark Job 17 completed in 6.1 seconds.<br/>Started Spark Job 18 with 33 tasks.<br/>Spark Job 18 completed in 1.3 seconds.<br/>Model Characteristics<br/>Number of Trees: 200<br/>Leaf Size: 5<br/>Tree Depth: 5<br/>% of Training Available per Tree: 100<br/>Number of Randomly Sampled Variables: 3<br/>% of Training Data Excluded for Validation: 18<br/>Training Data: Regression Diagnostics<br/>metricName, score<br/>R-Squared, 0.68<br/>Mean Squared Error, 131763.58<br/>Root Mean Squared Error, 362.99<br/>Mean Absolute Error, 253.48<br/>Explained Variance, 218400.23<br/>*Predictions for the data used to train the model compared to the observed categories for those features<br/>Validation Data: Regression Diagnostics<br/>metricName, score<br/>R-Squared, 0.68<br/>Mean Squared Error, 132324.47<br/>Root Mean Squared Error, 363.76<br/>Mean Absolute Error, 253.28<br/>Explained Variance, 222154.22<br/>*Predictions for the validation data (excluded from model training) compared to the observed values for those test features<br/>Started Spark Job 19 with 64 tasks.<br/>Spark Job 19 completed in 5.3 seconds.<br/>Top Variable of Importance<br/>Variable, Importance, Percentage<br/>hourSin, 0.01<br/>oneRegion.false, 0.02<br/>hourCos, 0.03<br/>dLat, 0.04<br/>pLat, 0.05<br/>dLon, 0.07<br/>pLon, 0.14<br/>meters, 0.63<br/>Started Spark Job 20 with 2 tasks.<br/>Spark Job 20 completed in 0.0 seconds.<br/>Started Spark Job 21 with 32 tasks.<br/>Spark Job 21 completed in 1.3 seconds.<br/>------------------------------------------------------------<br/>-------------------Model Characteristics--------------------<br/>Number of Trees                                          200<br/>Leaf Size                                                  5<br/>Tree Depth                                                 5<br/>% of Training Available per Tree                         100<br/>Number of Randomly Sampled Variables                       3<br/>% of Training Data Excluded for Validation                18<br/>                                                                                                <br/>-----------Training Data: Regression Diagnostics------------<br/>metricName                         score<br/>R-Squared                           0.68<br/>Mean Squared Error             131763.58<br/>Root Mean Squared Error           362.99<br/>Mean Absolute Error               253.48<br/>Explained Variance             218400.23<br/>*Predictions for the data used to train the model compared to the observed categories for those features<br/>                                                                                                <br/>----------Validation Data: Regression Diagnostics-----------<br/>metricName                         score<br/>R-Squared                           0.68<br/>Mean Squared Error             132324.47<br/>Root Mean Squared Error           363.76<br/>Mean Absolute Error               253.28<br/>Explained Variance             222154.22<br/>*Predictions for the validation data (excluded from model training) compared to the observed values for those test features<br/>                                                                                                <br/>-----------------Top Variable of Importance-----------------<br/>Variable                                           Importance Percentage<br/>hourSin                                                      0.01<br/>oneRegion.false                                              0.02<br/>hourCos                                                      0.03<br/>dLat                                                         0.04<br/>pLat                                                         0.05<br/>dLon                                                         0.07<br/>pLon                                                         0.14<br/>meters                                                       0.63<br/><br/>Succeeded at Friday, February 12, 2021 8:50:14 PM (Elapsed Time: 2 minutes 12 seconds)<br/><style>.rendered_html td, .rendered_html th {text-align: left;}.rendered_html tbody {border: 1px solid black;}</style>"
      ],
      "text/plain": [
       "<Result 'C:\\\\Users\\\\bdt2\\\\Documents\\\\ArcGIS\\\\Projects\\\\DevSummit\\\\scratch.gdb\\\\Trained'>"
      ]
     },
     "execution_count": 25,
     "metadata": {},
     "output_type": "execute_result"
    }
   ],
   "source": [
    "startTime = time.perf_counter()\n",
    "\n",
    "predictionType = \"TRAIN_AND_PREDICT\"\n",
    "trainingTV = \"Train\"\n",
    "trainedFC = os.path.join(arcpy.env.scratchGDB,\"Trained\")\n",
    "variablePredict = \"duration\"\n",
    "categorical = False\n",
    "explanatoryVariables = [[\"pLon\", \"false\"], [\"pLat\", \"false\"], [\"dLon\", \"false\"], [\"dLat\", \"false\"], [\"hourCos\", \"false\"], [\"hourSin\", \"false\"], [\"meters\", \"false\"], [\"oneRegion\", \"true\"]]\n",
    "importanceFC = os.path.join(arcpy.env.scratchGDB, \"Importance\")\n",
    "predictionTV = \"Test\"\n",
    "predictionFC = os.path.join(arcpy.env.scratchGDB, \"Predictions\")\n",
    "predictionMatches = [[\"pLon\", \"pLon\"], [\"pLat\", \"pLat\"], [\"dLon\", \"dLon\"], [\"dLat\", \"dLat\"], [\"hourCos\", \"hourCos\"], [\"hourSin\", \"hourSin\"], [\"meters\", \"meters\"], [\"oneRegion\", \"oneRegion\"]]\n",
    "numTrees=200\n",
    "minLeafSize=5\n",
    "maxTreeDepth=5\n",
    "validationPercentage=18\n",
    "\n",
    "results = arcpy.gapro.Forest(\n",
    "    prediction_type=predictionType,\n",
    "    in_features=trainingTV,\n",
    "    output_trained_features=trainedFC,\n",
    "    variable_predict=variablePredict,\n",
    "    treat_variable_as_categorical=categorical,\n",
    "    explanatory_variables=explanatoryVariables,\n",
    "    features_to_predict=predictionTV,\n",
    "    variable_of_importance=importanceFC,\n",
    "    output_predicted=predictionFC,\n",
    "    explanatory_variable_matching=predictionMatches,\n",
    "    number_of_trees=numTrees,\n",
    "    minimum_leaf_size=minLeafSize,\n",
    "    maximum_tree_depth=maxTreeDepth,\n",
    "    percentage_for_validation=validationPercentage)\n",
    "print(timeElapsed(startTime))\n",
    "results"
   ]
  },
  {
   "cell_type": "markdown",
   "metadata": {},
   "source": [
    "### Model Performance on Test Data (R^2)"
   ]
  },
  {
   "cell_type": "markdown",
   "metadata": {},
   "source": [
    "- <font size= \"3\">Use the arcgis library to load the Predicitons Feature Class into a [Spatial Dataframe](https://github.com/mraad/spark-esri)<font>"
   ]
  },
  {
   "cell_type": "code",
   "execution_count": 26,
   "metadata": {},
   "outputs": [
    {
     "data": {
      "text/html": [
       "<div>\n",
       "<style scoped>\n",
       "    .dataframe tbody tr th:only-of-type {\n",
       "        vertical-align: middle;\n",
       "    }\n",
       "\n",
       "    .dataframe tbody tr th {\n",
       "        vertical-align: top;\n",
       "    }\n",
       "\n",
       "    .dataframe thead th {\n",
       "        text-align: right;\n",
       "    }\n",
       "</style>\n",
       "<table border=\"1\" class=\"dataframe\">\n",
       "  <thead>\n",
       "    <tr style=\"text-align: right;\">\n",
       "      <th></th>\n",
       "      <th>OBJECTID1</th>\n",
       "      <th>OBJECTID</th>\n",
       "      <th>duration</th>\n",
       "      <th>pLon</th>\n",
       "      <th>pLat</th>\n",
       "      <th>dLon</th>\n",
       "      <th>dLat</th>\n",
       "      <th>hourCos</th>\n",
       "      <th>hourSin</th>\n",
       "      <th>meters</th>\n",
       "      <th>pRegionID</th>\n",
       "      <th>dRegionID</th>\n",
       "      <th>oneRegion</th>\n",
       "      <th>duration_predicted</th>\n",
       "      <th>SHAPE</th>\n",
       "    </tr>\n",
       "  </thead>\n",
       "  <tbody>\n",
       "    <tr>\n",
       "      <th>0</th>\n",
       "      <td>1</td>\n",
       "      <td>1</td>\n",
       "      <td>120.0</td>\n",
       "      <td>-74.015007</td>\n",
       "      <td>40.709900</td>\n",
       "      <td>-74.010040</td>\n",
       "      <td>40.721409</td>\n",
       "      <td>-0.068242</td>\n",
       "      <td>0.997669</td>\n",
       "      <td>1346.458579</td>\n",
       "      <td>10280</td>\n",
       "      <td>10013</td>\n",
       "      <td>false</td>\n",
       "      <td>516.824928</td>\n",
       "      <td>{\"x\": -8239312.8924, \"y\": 4969645.6752, \"spati...</td>\n",
       "    </tr>\n",
       "    <tr>\n",
       "      <th>1</th>\n",
       "      <td>2</td>\n",
       "      <td>2</td>\n",
       "      <td>120.0</td>\n",
       "      <td>-74.014732</td>\n",
       "      <td>40.709846</td>\n",
       "      <td>-74.013367</td>\n",
       "      <td>40.714924</td>\n",
       "      <td>0.682553</td>\n",
       "      <td>-0.730836</td>\n",
       "      <td>576.191110</td>\n",
       "      <td>10280</td>\n",
       "      <td>10007</td>\n",
       "      <td>false</td>\n",
       "      <td>498.041582</td>\n",
       "      <td>{\"x\": -8239282.317600001, \"y\": 4969637.8323, \"...</td>\n",
       "    </tr>\n",
       "    <tr>\n",
       "      <th>2</th>\n",
       "      <td>3</td>\n",
       "      <td>3</td>\n",
       "      <td>120.0</td>\n",
       "      <td>-74.009598</td>\n",
       "      <td>40.714790</td>\n",
       "      <td>-74.005226</td>\n",
       "      <td>40.720016</td>\n",
       "      <td>-0.990686</td>\n",
       "      <td>-0.136167</td>\n",
       "      <td>688.073684</td>\n",
       "      <td>10007</td>\n",
       "      <td>10013</td>\n",
       "      <td>false</td>\n",
       "      <td>525.973882</td>\n",
       "      <td>{\"x\": -8238710.738500001, \"y\": 4970363.8888000...</td>\n",
       "    </tr>\n",
       "    <tr>\n",
       "      <th>3</th>\n",
       "      <td>4</td>\n",
       "      <td>4</td>\n",
       "      <td>120.0</td>\n",
       "      <td>-74.006554</td>\n",
       "      <td>40.714939</td>\n",
       "      <td>-74.013580</td>\n",
       "      <td>40.715218</td>\n",
       "      <td>-0.334880</td>\n",
       "      <td>0.942261</td>\n",
       "      <td>593.028196</td>\n",
       "      <td>10007</td>\n",
       "      <td>10282</td>\n",
       "      <td>false</td>\n",
       "      <td>476.930782</td>\n",
       "      <td>{\"x\": -8238371.867699999, \"y\": 4970385.7386000...</td>\n",
       "    </tr>\n",
       "    <tr>\n",
       "      <th>4</th>\n",
       "      <td>5</td>\n",
       "      <td>5</td>\n",
       "      <td>120.0</td>\n",
       "      <td>-74.006325</td>\n",
       "      <td>40.733295</td>\n",
       "      <td>-74.005234</td>\n",
       "      <td>40.736675</td>\n",
       "      <td>-0.576680</td>\n",
       "      <td>0.816970</td>\n",
       "      <td>386.897884</td>\n",
       "      <td>10014</td>\n",
       "      <td>10014</td>\n",
       "      <td>true</td>\n",
       "      <td>385.513468</td>\n",
       "      <td>{\"x\": -8238346.388699999, \"y\": 4973082.0376000...</td>\n",
       "    </tr>\n",
       "    <tr>\n",
       "      <th>...</th>\n",
       "      <td>...</td>\n",
       "      <td>...</td>\n",
       "      <td>...</td>\n",
       "      <td>...</td>\n",
       "      <td>...</td>\n",
       "      <td>...</td>\n",
       "      <td>...</td>\n",
       "      <td>...</td>\n",
       "      <td>...</td>\n",
       "      <td>...</td>\n",
       "      <td>...</td>\n",
       "      <td>...</td>\n",
       "      <td>...</td>\n",
       "      <td>...</td>\n",
       "      <td>...</td>\n",
       "    </tr>\n",
       "    <tr>\n",
       "      <th>212870</th>\n",
       "      <td>212871</td>\n",
       "      <td>212871</td>\n",
       "      <td>5927.0</td>\n",
       "      <td>-73.985901</td>\n",
       "      <td>40.739441</td>\n",
       "      <td>-73.870750</td>\n",
       "      <td>40.774033</td>\n",
       "      <td>-0.775711</td>\n",
       "      <td>-0.631088</td>\n",
       "      <td>10433.854481</td>\n",
       "      <td>10010</td>\n",
       "      <td>11371</td>\n",
       "      <td>false</td>\n",
       "      <td>1819.501329</td>\n",
       "      <td>{\"x\": -8236072.8116999995, \"y\": 4973984.892399...</td>\n",
       "    </tr>\n",
       "    <tr>\n",
       "      <th>212871</th>\n",
       "      <td>212872</td>\n",
       "      <td>212872</td>\n",
       "      <td>5971.0</td>\n",
       "      <td>-73.776749</td>\n",
       "      <td>40.645580</td>\n",
       "      <td>-73.985580</td>\n",
       "      <td>40.759472</td>\n",
       "      <td>-0.576680</td>\n",
       "      <td>-0.816970</td>\n",
       "      <td>21685.971900</td>\n",
       "      <td>11430</td>\n",
       "      <td>10036</td>\n",
       "      <td>false</td>\n",
       "      <td>3231.197310</td>\n",
       "      <td>{\"x\": -8212790.0929000005, \"y\": 4960204.556900...</td>\n",
       "    </tr>\n",
       "    <tr>\n",
       "      <th>212872</th>\n",
       "      <td>212873</td>\n",
       "      <td>212873</td>\n",
       "      <td>5972.0</td>\n",
       "      <td>-73.716507</td>\n",
       "      <td>40.719639</td>\n",
       "      <td>-73.984329</td>\n",
       "      <td>40.760029</td>\n",
       "      <td>0.962917</td>\n",
       "      <td>-0.269797</td>\n",
       "      <td>23006.705701</td>\n",
       "      <td>11001</td>\n",
       "      <td>10019</td>\n",
       "      <td>false</td>\n",
       "      <td>2033.290291</td>\n",
       "      <td>{\"x\": -8206084.0176, \"y\": 4971075.991999999, \"...</td>\n",
       "    </tr>\n",
       "    <tr>\n",
       "      <th>212873</th>\n",
       "      <td>212874</td>\n",
       "      <td>212874</td>\n",
       "      <td>5983.0</td>\n",
       "      <td>-73.986122</td>\n",
       "      <td>40.757004</td>\n",
       "      <td>-73.790894</td>\n",
       "      <td>40.645523</td>\n",
       "      <td>-0.775711</td>\n",
       "      <td>-0.631088</td>\n",
       "      <td>20603.761436</td>\n",
       "      <td>10036</td>\n",
       "      <td>11430</td>\n",
       "      <td>false</td>\n",
       "      <td>3098.860477</td>\n",
       "      <td>{\"x\": -8236097.441400001, \"y\": 4976565.5781000...</td>\n",
       "    </tr>\n",
       "    <tr>\n",
       "      <th>212874</th>\n",
       "      <td>212875</td>\n",
       "      <td>212875</td>\n",
       "      <td>5996.0</td>\n",
       "      <td>-74.005600</td>\n",
       "      <td>40.750923</td>\n",
       "      <td>-73.782471</td>\n",
       "      <td>40.648777</td>\n",
       "      <td>-0.576680</td>\n",
       "      <td>-0.816970</td>\n",
       "      <td>21973.224473</td>\n",
       "      <td>10001</td>\n",
       "      <td>11430</td>\n",
       "      <td>false</td>\n",
       "      <td>3163.817910</td>\n",
       "      <td>{\"x\": -8238265.7051, \"y\": 4975672.014200002, \"...</td>\n",
       "    </tr>\n",
       "  </tbody>\n",
       "</table>\n",
       "<p>212875 rows × 15 columns</p>\n",
       "</div>"
      ],
      "text/plain": [
       "        OBJECTID1  ...                                              SHAPE\n",
       "0               1  ...  {\"x\": -8239312.8924, \"y\": 4969645.6752, \"spati...\n",
       "1               2  ...  {\"x\": -8239282.317600001, \"y\": 4969637.8323, \"...\n",
       "2               3  ...  {\"x\": -8238710.738500001, \"y\": 4970363.8888000...\n",
       "3               4  ...  {\"x\": -8238371.867699999, \"y\": 4970385.7386000...\n",
       "4               5  ...  {\"x\": -8238346.388699999, \"y\": 4973082.0376000...\n",
       "...           ...  ...                                                ...\n",
       "212870     212871  ...  {\"x\": -8236072.8116999995, \"y\": 4973984.892399...\n",
       "212871     212872  ...  {\"x\": -8212790.0929000005, \"y\": 4960204.556900...\n",
       "212872     212873  ...  {\"x\": -8206084.0176, \"y\": 4971075.991999999, \"...\n",
       "212873     212874  ...  {\"x\": -8236097.441400001, \"y\": 4976565.5781000...\n",
       "212874     212875  ...  {\"x\": -8238265.7051, \"y\": 4975672.014200002, \"...\n",
       "\n",
       "[212875 rows x 15 columns]"
      ]
     },
     "metadata": {},
     "output_type": "display_data"
    },
    {
     "name": "stdout",
     "output_type": "stream",
     "text": [
      "0.6837737295134211\n"
     ]
    }
   ],
   "source": [
    "sdf = GeoAccessor.from_featureclass(os.path.join(arcpy.env.scratchGDB, \"Predictions\"))\n",
    "display(sdf)\n",
    "actual = sdf[\"duration\"].to_numpy()\n",
    "prediction = sdf[\"duration_predicted\"].to_numpy()\n",
    "\n",
    "correlation_matrix = np.corrcoef(actual, prediction)\n",
    "correlation_xy = correlation_matrix[0,1]\n",
    "r_squared = correlation_xy**2\n",
    "\n",
    "print(r_squared)"
   ]
  }
 ],
 "metadata": {
  "kernelspec": {
   "display_name": "ArcGISPro",
   "language": "Python",
   "name": "python3"
  },
  "language_info": {
   "file_extension": ".py",
   "name": "python",
   "version": "3"
  }
 },
 "nbformat": 4,
 "nbformat_minor": 2
}
